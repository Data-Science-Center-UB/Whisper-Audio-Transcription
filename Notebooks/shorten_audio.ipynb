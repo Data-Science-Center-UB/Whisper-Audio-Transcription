{
 "cells": [
  {
   "cell_type": "markdown",
   "id": "6d9fe60a-76c1-4c8b-92b4-1de5bc7886b8",
   "metadata": {},
   "source": [
    "<img src=\"../Images/DSC_Logo.png\" style=\"width: 400px;\">"
   ]
  },
  {
   "cell_type": "markdown",
   "id": "6841bcf8-fa5a-4a67-80f4-51e9ac447eb8",
   "metadata": {},
   "source": [
    "This notebook demonstrates how to shorten audio files for transcription experiments. Using the pydub library, it shows how to load audio, select a specific time range or trim it to a smaller size, and then save the shortened version. The resulting files can be used to speed up testing and debugging of ASR workflows."
   ]
  },
  {
   "cell_type": "markdown",
   "id": "66b1eef5-aeb2-44ed-89b4-ae4d18d64b3e",
   "metadata": {},
   "source": [
    "Install and import pydub:"
   ]
  },
  {
   "cell_type": "code",
   "execution_count": null,
   "id": "efda9d3f-36fe-4d12-b2dc-4f7ac21ccd15",
   "metadata": {},
   "outputs": [],
   "source": [
    "!pip install pydub"
   ]
  },
  {
   "cell_type": "code",
   "execution_count": null,
   "id": "131f05ce-5d08-4ad8-9f46-141990bf18a5",
   "metadata": {},
   "outputs": [],
   "source": [
    "from pydub import AudioSegment"
   ]
  },
  {
   "cell_type": "markdown",
   "id": "255244c8-cfbf-4825-9c10-db160d0307a2",
   "metadata": {},
   "source": [
    "Load WAV file:"
   ]
  },
  {
   "cell_type": "code",
   "execution_count": null,
   "id": "dbcb8593-f4a7-4a03-9c34-a5b0ade7a639",
   "metadata": {},
   "outputs": [],
   "source": [
    "audio_file = \"../Data/buffy/shortened_Buffy_Seas01-Epis01.en.wav\" # enter directory of long file\n",
    "sound = AudioSegment.from_wav(audio_file)"
   ]
  },
  {
   "cell_type": "markdown",
   "id": "594c6e1a-6a39-443e-bfc8-36c152d5c720",
   "metadata": {},
   "source": [
    "Trim file:"
   ]
  },
  {
   "cell_type": "code",
   "execution_count": null,
   "id": "7c88468e-449c-4b0d-b429-092344fee4fa",
   "metadata": {},
   "outputs": [],
   "source": [
    "trimmed_sound = sound[355000:410000] # from 5:55 (355000ms) to 7:00 (410000ms)"
   ]
  },
  {
   "cell_type": "markdown",
   "id": "edc2e627-f6e5-46c4-a154-89f6e5531763",
   "metadata": {},
   "source": [
    "Export trimmed file:"
   ]
  },
  {
   "cell_type": "code",
   "execution_count": null,
   "id": "b19970a4-d006-404d-8e9e-1b3c0cb2969b",
   "metadata": {},
   "outputs": [],
   "source": [
    "trimmed_sound.export(\"../Data/buffy/shortened__shortened_Buffy_Seas01-Epis01.en.wav\", format=\"wav\") # enter directory for shortened file"
   ]
  }
 ],
 "metadata": {
  "kernelspec": {
   "display_name": "Python 3 (ipykernel)",
   "language": "python",
   "name": "python3"
  },
  "language_info": {
   "codemirror_mode": {
    "name": "ipython",
    "version": 3
   },
   "file_extension": ".py",
   "mimetype": "text/x-python",
   "name": "python",
   "nbconvert_exporter": "python",
   "pygments_lexer": "ipython3",
   "version": "3.12.11"
  }
 },
 "nbformat": 4,
 "nbformat_minor": 5
}
